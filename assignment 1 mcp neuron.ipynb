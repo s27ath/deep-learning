{
 "cells": [
  {
   "cell_type": "code",
   "execution_count": 3,
   "id": "59aecfd4",
   "metadata": {},
   "outputs": [],
   "source": [
    "import pandas\n",
    "import numpy"
   ]
  },
  {
   "cell_type": "code",
   "execution_count": 26,
   "id": "859759b3",
   "metadata": {},
   "outputs": [],
   "source": [
    "def mcp_neuron(binary_inputs:list,lgc_gate):\n",
    "    if lgc_gate=='and':\n",
    "        result=1\n",
    "        for i in binary_inputs:\n",
    "            result=result and i\n",
    "    else:\n",
    "        result=0\n",
    "        for i in binary_inputs:\n",
    "            result=result or i\n",
    "    return result"
   ]
  },
  {
   "cell_type": "code",
   "execution_count": 27,
   "id": "cfabe68a",
   "metadata": {},
   "outputs": [
    {
     "data": {
      "text/plain": [
       "0"
      ]
     },
     "execution_count": 27,
     "metadata": {},
     "output_type": "execute_result"
    }
   ],
   "source": [
    "mcp_neuron([0,0,0,1],\"and\")"
   ]
  },
  {
   "cell_type": "code",
   "execution_count": 29,
   "id": "5ce593a6",
   "metadata": {},
   "outputs": [
    {
     "data": {
      "text/plain": [
       "1"
      ]
     },
     "execution_count": 29,
     "metadata": {},
     "output_type": "execute_result"
    }
   ],
   "source": [
    "mcp_neuron([0,0,0,1],\"or\")"
   ]
  },
  {
   "cell_type": "code",
   "execution_count": null,
   "id": "c5e405f8",
   "metadata": {},
   "outputs": [],
   "source": []
  },
  {
   "cell_type": "code",
   "execution_count": null,
   "id": "12b02fb3",
   "metadata": {},
   "outputs": [],
   "source": []
  }
 ],
 "metadata": {
  "kernelspec": {
   "display_name": "Python 3 (ipykernel)",
   "language": "python",
   "name": "python3"
  },
  "language_info": {
   "codemirror_mode": {
    "name": "ipython",
    "version": 3
   },
   "file_extension": ".py",
   "mimetype": "text/x-python",
   "name": "python",
   "nbconvert_exporter": "python",
   "pygments_lexer": "ipython3",
   "version": "3.9.13"
  }
 },
 "nbformat": 4,
 "nbformat_minor": 5
}
